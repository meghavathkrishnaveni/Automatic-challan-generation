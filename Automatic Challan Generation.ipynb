{
 "cells": [
  {
   "cell_type": "code",
   "execution_count": 1,
   "metadata": {},
   "outputs": [
    {
     "name": "stderr",
     "output_type": "stream",
     "text": [
      "Using TensorFlow backend.\n"
     ]
    }
   ],
   "source": [
    "from keras.models import Sequential\n",
    "from keras.layers import Dense  # for hidden layers dense is used..\n",
    "from keras.layers import Conv2D # for augmentation.\n",
    "from keras.layers import MaxPooling2D\n",
    "from keras.layers import Flatten"
   ]
  },
  {
   "cell_type": "code",
   "execution_count": 2,
   "metadata": {},
   "outputs": [],
   "source": [
    "model=Sequential()"
   ]
  },
  {
   "cell_type": "code",
   "execution_count": 3,
   "metadata": {},
   "outputs": [
    {
     "name": "stdout",
     "output_type": "stream",
     "text": [
      "WARNING:tensorflow:From C:\\Users\\LAB USER\\Anaconda3\\lib\\site-packages\\tensorflow\\python\\framework\\op_def_library.py:263: colocate_with (from tensorflow.python.framework.ops) is deprecated and will be removed in a future version.\n",
      "Instructions for updating:\n",
      "Colocations handled automatically by placer.\n"
     ]
    },
    {
     "name": "stderr",
     "output_type": "stream",
     "text": [
      "C:\\Users\\LAB USER\\Anaconda3\\lib\\site-packages\\ipykernel_launcher.py:1: UserWarning: Update your `Conv2D` call to the Keras 2 API: `Conv2D(32, (3, 3), input_shape=(64, 64, 3..., activation=\"relu\")`\n",
      "  \"\"\"Entry point for launching an IPython kernel.\n"
     ]
    }
   ],
   "source": [
    "model.add(Conv2D(32,3,3,input_shape=(64,64,3),activation='relu')) # 32 means for desktop we use.3,3,is 3*3 matrix...and 64,64 means 64*64 pixles..."
   ]
  },
  {
   "cell_type": "code",
   "execution_count": 4,
   "metadata": {},
   "outputs": [],
   "source": [
    "model.add(MaxPooling2D(pool_size=(2,2)))  # 2,2 is 2*2 matrix"
   ]
  },
  {
   "cell_type": "code",
   "execution_count": 5,
   "metadata": {},
   "outputs": [],
   "source": [
    "model.add(Flatten())"
   ]
  },
  {
   "cell_type": "code",
   "execution_count": 6,
   "metadata": {},
   "outputs": [
    {
     "name": "stderr",
     "output_type": "stream",
     "text": [
      "C:\\Users\\LAB USER\\Anaconda3\\lib\\site-packages\\ipykernel_launcher.py:1: UserWarning: Update your `Dense` call to the Keras 2 API: `Dense(activation=\"sigmoid\", units=1, kernel_initializer=\"random_uniform\")`\n",
      "  \"\"\"Entry point for launching an IPython kernel.\n"
     ]
    }
   ],
   "source": [
    "model.add(Dense(output_dim=1,activation='sigmoid',init='random_uniform'))  # for one label we take output_dim=1"
   ]
  },
  {
   "cell_type": "code",
   "execution_count": 7,
   "metadata": {},
   "outputs": [],
   "source": [
    "model.compile(optimizer='adam',loss='binary_crossentropy',metrics=['accuracy']) #adam is localastical gradient descent.."
   ]
  },
  {
   "cell_type": "code",
   "execution_count": 8,
   "metadata": {},
   "outputs": [],
   "source": [
    "from keras.preprocessing.image import ImageDataGenerator #change the shapes of images in folder"
   ]
  },
  {
   "cell_type": "code",
   "execution_count": 9,
   "metadata": {},
   "outputs": [],
   "source": [
    "train_datagen=ImageDataGenerator(rescale=1./255,shear_range=0.2,zoom_range=0.2,horizontal_flip=True)\n",
    "test_datagen=ImageDataGenerator(rescale=1./255)"
   ]
  },
  {
   "cell_type": "code",
   "execution_count": 10,
   "metadata": {},
   "outputs": [
    {
     "name": "stdout",
     "output_type": "stream",
     "text": [
      "Found 270 images belonging to 2 classes.\n",
      "Found 120 images belonging to 2 classes.\n"
     ]
    }
   ],
   "source": [
    "x_train=train_datagen.flow_from_directory(r'C:\\Users\\LAB USER\\Desktop\\images\\training_set',target_size=(64,64),batch_size=32,class_mode='binary')\n",
    "x_test=train_datagen.flow_from_directory(r'C:\\Users\\LAB USER\\Desktop\\images\\test_set',target_size=(64,64),batch_size=32,class_mode='binary')"
   ]
  },
  {
   "cell_type": "code",
   "execution_count": 11,
   "metadata": {},
   "outputs": [
    {
     "name": "stdout",
     "output_type": "stream",
     "text": [
      "{'helmets': 0, 'without helmets': 1}\n"
     ]
    }
   ],
   "source": [
    "print(x_train.class_indices)"
   ]
  },
  {
   "cell_type": "code",
   "execution_count": 12,
   "metadata": {},
   "outputs": [
    {
     "name": "stdout",
     "output_type": "stream",
     "text": [
      "WARNING:tensorflow:From C:\\Users\\LAB USER\\Anaconda3\\lib\\site-packages\\tensorflow\\python\\ops\\math_ops.py:3066: to_int32 (from tensorflow.python.ops.math_ops) is deprecated and will be removed in a future version.\n",
      "Instructions for updating:\n",
      "Use tf.cast instead.\n"
     ]
    },
    {
     "name": "stderr",
     "output_type": "stream",
     "text": [
      "C:\\Users\\LAB USER\\Anaconda3\\lib\\site-packages\\ipykernel_launcher.py:1: UserWarning: The semantics of the Keras 2 argument `steps_per_epoch` is not the same as the Keras 1 argument `samples_per_epoch`. `steps_per_epoch` is the number of batches to draw from the generator at each epoch. Basically steps_per_epoch = samples_per_epoch/batch_size. Similarly `nb_val_samples`->`validation_steps` and `val_samples`->`steps` arguments have changed. Update your method calls accordingly.\n",
      "  \"\"\"Entry point for launching an IPython kernel.\n",
      "C:\\Users\\LAB USER\\Anaconda3\\lib\\site-packages\\ipykernel_launcher.py:1: UserWarning: Update your `fit_generator` call to the Keras 2 API: `fit_generator(<keras_pre..., epochs=200, validation_data=<keras_pre..., steps_per_epoch=8, validation_steps=120)`\n",
      "  \"\"\"Entry point for launching an IPython kernel.\n"
     ]
    },
    {
     "name": "stdout",
     "output_type": "stream",
     "text": [
      "Epoch 1/200\n",
      "8/8 [==============================] - 26s 3s/step - loss: 0.7434 - acc: 0.5703 - val_loss: 0.6916 - val_acc: 0.5522\n",
      "Epoch 2/200\n",
      "8/8 [==============================] - 26s 3s/step - loss: 0.7205 - acc: 0.4803 - val_loss: 0.7061 - val_acc: 0.5192\n",
      "Epoch 3/200\n",
      "8/8 [==============================] - 26s 3s/step - loss: 0.6772 - acc: 0.5580 - val_loss: 0.7112 - val_acc: 0.4925\n",
      "Epoch 4/200\n",
      "8/8 [==============================] - 27s 3s/step - loss: 0.6688 - acc: 0.5754 - val_loss: 0.6988 - val_acc: 0.5367\n",
      "Epoch 5/200\n",
      "8/8 [==============================] - 25s 3s/step - loss: 0.6419 - acc: 0.6620 - val_loss: 0.7210 - val_acc: 0.4511\n",
      "Epoch 6/200\n",
      "8/8 [==============================] - 25s 3s/step - loss: 0.6318 - acc: 0.6570 - val_loss: 0.7160 - val_acc: 0.4961\n",
      "Epoch 7/200\n",
      "8/8 [==============================] - 26s 3s/step - loss: 0.5964 - acc: 0.7479 - val_loss: 0.7342 - val_acc: 0.5278\n",
      "Epoch 8/200\n",
      "8/8 [==============================] - 24s 3s/step - loss: 0.6422 - acc: 0.6305 - val_loss: 0.7525 - val_acc: 0.4697\n",
      "Epoch 9/200\n",
      "8/8 [==============================] - 25s 3s/step - loss: 0.5726 - acc: 0.7009 - val_loss: 0.7583 - val_acc: 0.4661\n",
      "Epoch 10/200\n",
      "8/8 [==============================] - 27s 3s/step - loss: 0.5709 - acc: 0.6953 - val_loss: 0.7690 - val_acc: 0.4764\n",
      "Epoch 11/200\n",
      "8/8 [==============================] - 26s 3s/step - loss: 0.5330 - acc: 0.7429 - val_loss: 0.7778 - val_acc: 0.4653\n",
      "Epoch 12/200\n",
      "8/8 [==============================] - 27s 3s/step - loss: 0.5621 - acc: 0.7261 - val_loss: 0.9031 - val_acc: 0.4808\n",
      "Epoch 13/200\n",
      "8/8 [==============================] - 28s 3s/step - loss: 0.5952 - acc: 0.6828 - val_loss: 0.8358 - val_acc: 0.4900\n",
      "Epoch 14/200\n",
      "8/8 [==============================] - 26s 3s/step - loss: 0.5631 - acc: 0.6822 - val_loss: 0.7651 - val_acc: 0.5128\n",
      "Epoch 15/200\n",
      "8/8 [==============================] - 25s 3s/step - loss: 0.4993 - acc: 0.7734 - val_loss: 0.7737 - val_acc: 0.5006\n",
      "Epoch 16/200\n",
      "8/8 [==============================] - 25s 3s/step - loss: 0.5395 - acc: 0.7576 - val_loss: 0.8679 - val_acc: 0.4897\n",
      "Epoch 17/200\n",
      "8/8 [==============================] - 24s 3s/step - loss: 0.4881 - acc: 0.8015 - val_loss: 0.8121 - val_acc: 0.4697\n",
      "Epoch 18/200\n",
      "8/8 [==============================] - 26s 3s/step - loss: 0.5073 - acc: 0.7532 - val_loss: 0.8109 - val_acc: 0.5000\n",
      "Epoch 19/200\n",
      "8/8 [==============================] - 25s 3s/step - loss: 0.4981 - acc: 0.7578 - val_loss: 0.9187 - val_acc: 0.5011\n",
      "Epoch 20/200\n",
      "8/8 [==============================] - 25s 3s/step - loss: 0.4721 - acc: 0.7655 - val_loss: 0.8151 - val_acc: 0.4875\n",
      "Epoch 21/200\n",
      "8/8 [==============================] - 26s 3s/step - loss: 0.4603 - acc: 0.8133 - val_loss: 0.8112 - val_acc: 0.4961\n",
      "Epoch 22/200\n",
      "8/8 [==============================] - 27s 3s/step - loss: 0.4264 - acc: 0.8419 - val_loss: 0.8687 - val_acc: 0.4958\n",
      "Epoch 23/200\n",
      "8/8 [==============================] - 27s 3s/step - loss: 0.4366 - acc: 0.8172 - val_loss: 0.9086 - val_acc: 0.4894\n",
      "Epoch 24/200\n",
      "8/8 [==============================] - 27s 3s/step - loss: 0.4638 - acc: 0.7970 - val_loss: 0.8791 - val_acc: 0.5150\n",
      "Epoch 25/200\n",
      "8/8 [==============================] - 26s 3s/step - loss: 0.4666 - acc: 0.7818 - val_loss: 0.8607 - val_acc: 0.4992\n",
      "Epoch 26/200\n",
      "8/8 [==============================] - 25s 3s/step - loss: 0.4748 - acc: 0.7576 - val_loss: 0.8964 - val_acc: 0.4886\n",
      "Epoch 27/200\n",
      "8/8 [==============================] - 27s 3s/step - loss: 0.4443 - acc: 0.8143 - val_loss: 0.8203 - val_acc: 0.4889\n",
      "Epoch 28/200\n",
      "8/8 [==============================] - 27s 3s/step - loss: 0.4301 - acc: 0.8203 - val_loss: 0.9014 - val_acc: 0.4986\n",
      "Epoch 29/200\n",
      "8/8 [==============================] - 27s 3s/step - loss: 0.3895 - acc: 0.8734 - val_loss: 0.8437 - val_acc: 0.5186\n",
      "Epoch 30/200\n",
      "8/8 [==============================] - 28s 3s/step - loss: 0.3897 - acc: 0.8516 - val_loss: 0.8658 - val_acc: 0.5178\n",
      "Epoch 31/200\n",
      "8/8 [==============================] - 27s 3s/step - loss: 0.3804 - acc: 0.8262 - val_loss: 0.9205 - val_acc: 0.5142\n",
      "Epoch 32/200\n",
      "8/8 [==============================] - 27s 3s/step - loss: 0.3563 - acc: 0.8493 - val_loss: 0.8939 - val_acc: 0.5092\n",
      "Epoch 33/200\n",
      "8/8 [==============================] - 27s 3s/step - loss: 0.3744 - acc: 0.8493 - val_loss: 0.9209 - val_acc: 0.5236\n",
      "Epoch 34/200\n",
      "8/8 [==============================] - 24s 3s/step - loss: 0.3490 - acc: 0.8808 - val_loss: 1.0106 - val_acc: 0.5128\n",
      "Epoch 35/200\n",
      "8/8 [==============================] - 26s 3s/step - loss: 0.3737 - acc: 0.8380 - val_loss: 0.9572 - val_acc: 0.5242\n",
      "Epoch 36/200\n",
      "8/8 [==============================] - 27s 3s/step - loss: 0.3589 - acc: 0.8695 - val_loss: 0.9050 - val_acc: 0.5147\n",
      "Epoch 37/200\n",
      "8/8 [==============================] - 27s 3s/step - loss: 0.3153 - acc: 0.8945 - val_loss: 0.9060 - val_acc: 0.5261\n",
      "Epoch 38/200\n",
      "8/8 [==============================] - 26s 3s/step - loss: 0.3121 - acc: 0.8858 - val_loss: 0.9755 - val_acc: 0.5186\n",
      "Epoch 39/200\n",
      "8/8 [==============================] - 28s 4s/step - loss: 0.3325 - acc: 0.8774 - val_loss: 0.9362 - val_acc: 0.5228\n",
      "Epoch 40/200\n",
      "8/8 [==============================] - 27s 3s/step - loss: 0.3363 - acc: 0.8684 - val_loss: 0.9364 - val_acc: 0.5231\n",
      "Epoch 41/200\n",
      "8/8 [==============================] - 27s 3s/step - loss: 0.3351 - acc: 0.8852 - val_loss: 0.9311 - val_acc: 0.5311\n",
      "Epoch 42/200\n",
      "8/8 [==============================] - 27s 3s/step - loss: 0.2925 - acc: 0.8690 - val_loss: 0.9153 - val_acc: 0.5194\n",
      "Epoch 43/200\n",
      "8/8 [==============================] - 26s 3s/step - loss: 0.3608 - acc: 0.8464 - val_loss: 0.9923 - val_acc: 0.5311\n",
      "Epoch 44/200\n",
      "8/8 [==============================] - 25s 3s/step - loss: 0.3080 - acc: 0.8808 - val_loss: 1.0572 - val_acc: 0.5161\n",
      "Epoch 45/200\n",
      "8/8 [==============================] - 29s 4s/step - loss: 0.3328 - acc: 0.8477 - val_loss: 0.9616 - val_acc: 0.5253\n",
      "Epoch 46/200\n",
      "8/8 [==============================] - 27s 3s/step - loss: 0.2814 - acc: 0.9102 - val_loss: 0.9738 - val_acc: 0.5400\n",
      "Epoch 47/200\n",
      "8/8 [==============================] - 28s 4s/step - loss: 0.2790 - acc: 0.9168 - val_loss: 0.9841 - val_acc: 0.5425\n",
      "Epoch 48/200\n",
      "8/8 [==============================] - 26s 3s/step - loss: 0.2473 - acc: 0.9246 - val_loss: 1.0791 - val_acc: 0.5417\n",
      "Epoch 49/200\n",
      "8/8 [==============================] - 26s 3s/step - loss: 0.3109 - acc: 0.8892 - val_loss: 1.0334 - val_acc: 0.5386\n",
      "Epoch 50/200\n",
      "8/8 [==============================] - 28s 3s/step - loss: 0.2613 - acc: 0.9212 - val_loss: 0.9639 - val_acc: 0.5325\n",
      "Epoch 51/200\n",
      "8/8 [==============================] - 26s 3s/step - loss: 0.2724 - acc: 0.9078 - val_loss: 1.0177 - val_acc: 0.5414\n",
      "Epoch 52/200\n",
      "8/8 [==============================] - 25s 3s/step - loss: 0.2485 - acc: 0.9173 - val_loss: 1.0967 - val_acc: 0.5339\n",
      "Epoch 53/200\n",
      "8/8 [==============================] - 27s 3s/step - loss: 0.2510 - acc: 0.9123 - val_loss: 0.9777 - val_acc: 0.5331\n",
      "Epoch 54/200\n",
      "8/8 [==============================] - 27s 3s/step - loss: 0.2856 - acc: 0.8960 - val_loss: 1.0714 - val_acc: 0.5308\n",
      "Epoch 55/200\n",
      "8/8 [==============================] - 27s 3s/step - loss: 0.2316 - acc: 0.9453 - val_loss: 1.0630 - val_acc: 0.5408\n",
      "Epoch 56/200\n",
      "8/8 [==============================] - 25s 3s/step - loss: 0.2477 - acc: 0.9320 - val_loss: 0.9774 - val_acc: 0.5503\n",
      "Epoch 57/200\n",
      "8/8 [==============================] - 26s 3s/step - loss: 0.2477 - acc: 0.9202 - val_loss: 1.0542 - val_acc: 0.5489\n",
      "Epoch 58/200\n",
      "8/8 [==============================] - 27s 3s/step - loss: 0.2408 - acc: 0.9246 - val_loss: 1.0392 - val_acc: 0.5389\n",
      "Epoch 59/200\n",
      "8/8 [==============================] - 28s 3s/step - loss: 0.2620 - acc: 0.9370 - val_loss: 1.0675 - val_acc: 0.5394\n",
      "Epoch 60/200\n",
      "8/8 [==============================] - 26s 3s/step - loss: 0.2068 - acc: 0.9483 - val_loss: 1.0778 - val_acc: 0.5342\n",
      "Epoch 61/200\n",
      "8/8 [==============================] - 28s 3s/step - loss: 0.2414 - acc: 0.9123 - val_loss: 1.2653 - val_acc: 0.5278\n",
      "Epoch 62/200\n",
      "8/8 [==============================] - 32s 4s/step - loss: 0.2604 - acc: 0.8931 - val_loss: 1.2604 - val_acc: 0.5331\n",
      "Epoch 63/200\n",
      "8/8 [==============================] - 26s 3s/step - loss: 0.2240 - acc: 0.9409 - val_loss: 1.1072 - val_acc: 0.5386\n",
      "Epoch 64/200\n"
     ]
    },
    {
     "name": "stdout",
     "output_type": "stream",
     "text": [
      "8/8 [==============================] - 28s 3s/step - loss: 0.2011 - acc: 0.9375 - val_loss: 1.1253 - val_acc: 0.5331\n",
      "Epoch 65/200\n",
      "8/8 [==============================] - 29s 4s/step - loss: 0.2387 - acc: 0.9123 - val_loss: 1.3204 - val_acc: 0.5336\n",
      "Epoch 66/200\n",
      "8/8 [==============================] - 25s 3s/step - loss: 0.2543 - acc: 0.8892 - val_loss: 1.2291 - val_acc: 0.5208\n",
      "Epoch 67/200\n",
      "8/8 [==============================] - 28s 3s/step - loss: 0.2072 - acc: 0.9438 - val_loss: 1.1103 - val_acc: 0.5322\n",
      "Epoch 68/200\n",
      "8/8 [==============================] - 27s 3s/step - loss: 0.2379 - acc: 0.9162 - val_loss: 1.0860 - val_acc: 0.5417\n",
      "Epoch 69/200\n",
      "8/8 [==============================] - 26s 3s/step - loss: 0.2007 - acc: 0.9280 - val_loss: 1.1077 - val_acc: 0.5500\n",
      "Epoch 70/200\n",
      "8/8 [==============================] - 27s 3s/step - loss: 0.1965 - acc: 0.9527 - val_loss: 1.1825 - val_acc: 0.5506\n",
      "Epoch 71/200\n",
      "8/8 [==============================] - 26s 3s/step - loss: 0.1820 - acc: 0.9404 - val_loss: 1.2599 - val_acc: 0.5361\n",
      "Epoch 72/200\n",
      "8/8 [==============================] - 28s 3s/step - loss: 0.2331 - acc: 0.9212 - val_loss: 1.1448 - val_acc: 0.5467\n",
      "Epoch 73/200\n",
      "8/8 [==============================] - 27s 3s/step - loss: 0.1584 - acc: 0.9805 - val_loss: 1.1472 - val_acc: 0.5328\n",
      "Epoch 74/200\n",
      "8/8 [==============================] - 25s 3s/step - loss: 0.1940 - acc: 0.9449 - val_loss: 1.2287 - val_acc: 0.5433\n",
      "Epoch 75/200\n",
      "8/8 [==============================] - 25s 3s/step - loss: 0.2043 - acc: 0.9241 - val_loss: 1.1816 - val_acc: 0.5469\n",
      "Epoch 76/200\n",
      "8/8 [==============================] - 25s 3s/step - loss: 0.1881 - acc: 0.9556 - val_loss: 1.1077 - val_acc: 0.5608\n",
      "Epoch 77/200\n",
      "8/8 [==============================] - 28s 3s/step - loss: 0.2155 - acc: 0.9280 - val_loss: 1.1828 - val_acc: 0.5617\n",
      "Epoch 78/200\n",
      "8/8 [==============================] - 27s 3s/step - loss: 0.1679 - acc: 0.9488 - val_loss: 1.1191 - val_acc: 0.5592\n",
      "Epoch 79/200\n",
      "8/8 [==============================] - 25s 3s/step - loss: 0.1744 - acc: 0.9640 - val_loss: 1.1832 - val_acc: 0.5450\n",
      "Epoch 80/200\n",
      "8/8 [==============================] - 26s 3s/step - loss: 0.1672 - acc: 0.9488 - val_loss: 1.1208 - val_acc: 0.5550\n",
      "Epoch 81/200\n",
      "8/8 [==============================] - 29s 4s/step - loss: 0.1637 - acc: 0.9803 - val_loss: 1.2337 - val_acc: 0.5525\n",
      "Epoch 82/200\n",
      "8/8 [==============================] - 28s 4s/step - loss: 0.1779 - acc: 0.9492 - val_loss: 1.2566 - val_acc: 0.5414\n",
      "Epoch 83/200\n",
      "8/8 [==============================] - 26s 3s/step - loss: 0.1737 - acc: 0.9606 - val_loss: 1.2218 - val_acc: 0.5397\n",
      "Epoch 84/200\n",
      "8/8 [==============================] - 29s 4s/step - loss: 0.1602 - acc: 0.9522 - val_loss: 1.1322 - val_acc: 0.5525\n",
      "Epoch 85/200\n",
      "8/8 [==============================] - 25s 3s/step - loss: 0.1659 - acc: 0.9567 - val_loss: 1.2352 - val_acc: 0.5458\n",
      "Epoch 86/200\n",
      "8/8 [==============================] - 26s 3s/step - loss: 0.1390 - acc: 0.9803 - val_loss: 1.2445 - val_acc: 0.5517\n",
      "Epoch 87/200\n",
      "8/8 [==============================] - 28s 3s/step - loss: 0.1716 - acc: 0.9601 - val_loss: 1.3404 - val_acc: 0.5456\n",
      "Epoch 88/200\n",
      "8/8 [==============================] - 27s 3s/step - loss: 0.1694 - acc: 0.9606 - val_loss: 1.1563 - val_acc: 0.5556\n",
      "Epoch 89/200\n",
      "8/8 [==============================] - 25s 3s/step - loss: 0.1444 - acc: 0.9561 - val_loss: 1.1089 - val_acc: 0.5492\n",
      "Epoch 90/200\n",
      "8/8 [==============================] - 28s 3s/step - loss: 0.1774 - acc: 0.9556 - val_loss: 1.2292 - val_acc: 0.5472\n",
      "Epoch 91/200\n",
      "8/8 [==============================] - 27s 3s/step - loss: 0.1586 - acc: 0.9609 - val_loss: 1.3260 - val_acc: 0.5475\n",
      "Epoch 92/200\n",
      "8/8 [==============================] - 24s 3s/step - loss: 0.1524 - acc: 0.9483 - val_loss: 1.1781 - val_acc: 0.5639\n",
      "Epoch 93/200\n",
      "8/8 [==============================] - 25s 3s/step - loss: 0.1631 - acc: 0.9522 - val_loss: 1.2003 - val_acc: 0.5628\n",
      "Epoch 94/200\n",
      "8/8 [==============================] - 28s 4s/step - loss: 0.1787 - acc: 0.9404 - val_loss: 1.1915 - val_acc: 0.5544\n",
      "Epoch 95/200\n",
      "8/8 [==============================] - 25s 3s/step - loss: 0.1602 - acc: 0.9645 - val_loss: 1.3390 - val_acc: 0.5333\n",
      "Epoch 96/200\n",
      "8/8 [==============================] - 24s 3s/step - loss: 0.1639 - acc: 0.9803 - val_loss: 1.2584 - val_acc: 0.5306\n",
      "Epoch 97/200\n",
      "8/8 [==============================] - 24s 3s/step - loss: 0.1544 - acc: 0.9561 - val_loss: 1.3033 - val_acc: 0.5253\n",
      "Epoch 98/200\n",
      "8/8 [==============================] - 27s 3s/step - loss: 0.1477 - acc: 0.9640 - val_loss: 1.3952 - val_acc: 0.5369\n",
      "Epoch 99/200\n",
      "8/8 [==============================] - 25s 3s/step - loss: 0.1573 - acc: 0.9483 - val_loss: 1.2437 - val_acc: 0.5342\n",
      "Epoch 100/200\n",
      "8/8 [==============================] - 25s 3s/step - loss: 0.1695 - acc: 0.9414 - val_loss: 1.2526 - val_acc: 0.5447\n",
      "Epoch 101/200\n",
      "8/8 [==============================] - 26s 3s/step - loss: 0.1555 - acc: 0.9488 - val_loss: 1.4049 - val_acc: 0.5442\n",
      "Epoch 102/200\n",
      "8/8 [==============================] - 28s 4s/step - loss: 0.1718 - acc: 0.9601 - val_loss: 1.2402 - val_acc: 0.5414\n",
      "Epoch 103/200\n",
      "8/8 [==============================] - 24s 3s/step - loss: 0.1623 - acc: 0.9645 - val_loss: 1.3932 - val_acc: 0.5406\n",
      "Epoch 104/200\n",
      "8/8 [==============================] - 28s 3s/step - loss: 0.1487 - acc: 0.9606 - val_loss: 1.3083 - val_acc: 0.5467\n",
      "Epoch 105/200\n",
      "8/8 [==============================] - 27s 3s/step - loss: 0.1176 - acc: 0.9764 - val_loss: 1.2368 - val_acc: 0.5567\n",
      "Epoch 106/200\n",
      "8/8 [==============================] - 26s 3s/step - loss: 0.1343 - acc: 0.9645 - val_loss: 1.3128 - val_acc: 0.5481\n",
      "Epoch 107/200\n",
      "8/8 [==============================] - 25s 3s/step - loss: 0.1161 - acc: 0.9803 - val_loss: 1.3869 - val_acc: 0.5325\n",
      "Epoch 108/200\n",
      "8/8 [==============================] - 26s 3s/step - loss: 0.1330 - acc: 0.9685 - val_loss: 1.3218 - val_acc: 0.5508\n",
      "Epoch 109/200\n",
      "8/8 [==============================] - 28s 3s/step - loss: 0.1310 - acc: 0.9570 - val_loss: 1.2487 - val_acc: 0.5583\n",
      "Epoch 110/200\n",
      "8/8 [==============================] - 25s 3s/step - loss: 0.1200 - acc: 0.9764 - val_loss: 1.2650 - val_acc: 0.5639\n",
      "Epoch 111/200\n",
      "8/8 [==============================] - 24s 3s/step - loss: 0.1190 - acc: 0.9645 - val_loss: 1.2920 - val_acc: 0.5550\n",
      "Epoch 112/200\n",
      "8/8 [==============================] - 24s 3s/step - loss: 0.1519 - acc: 0.9522 - val_loss: 1.3769 - val_acc: 0.5439\n",
      "Epoch 113/200\n",
      "8/8 [==============================] - 25s 3s/step - loss: 0.0894 - acc: 0.9842 - val_loss: 1.4572 - val_acc: 0.5417\n",
      "Epoch 114/200\n",
      "8/8 [==============================] - 23s 3s/step - loss: 0.1464 - acc: 0.9443 - val_loss: 1.3774 - val_acc: 0.5606\n",
      "Epoch 115/200\n",
      "8/8 [==============================] - 23s 3s/step - loss: 0.1182 - acc: 0.9645 - val_loss: 1.3001 - val_acc: 0.5594\n",
      "Epoch 116/200\n",
      "8/8 [==============================] - 23s 3s/step - loss: 0.0930 - acc: 0.9764 - val_loss: 1.3307 - val_acc: 0.5553\n",
      "Epoch 117/200\n",
      "8/8 [==============================] - 23s 3s/step - loss: 0.1052 - acc: 0.9719 - val_loss: 1.2964 - val_acc: 0.5533\n",
      "Epoch 118/200\n",
      "8/8 [==============================] - 23s 3s/step - loss: 0.1150 - acc: 0.9570 - val_loss: 1.3548 - val_acc: 0.5517\n",
      "Epoch 119/200\n",
      "8/8 [==============================] - 23s 3s/step - loss: 0.0892 - acc: 0.9921 - val_loss: 1.4677 - val_acc: 0.5472\n",
      "Epoch 120/200\n",
      "8/8 [==============================] - 23s 3s/step - loss: 0.1171 - acc: 0.9803 - val_loss: 1.3165 - val_acc: 0.5553\n",
      "Epoch 121/200\n",
      "8/8 [==============================] - 23s 3s/step - loss: 0.1183 - acc: 0.9724 - val_loss: 1.4120 - val_acc: 0.5497\n",
      "Epoch 122/200\n",
      "8/8 [==============================] - 23s 3s/step - loss: 0.1078 - acc: 0.9758 - val_loss: 1.2994 - val_acc: 0.5547\n",
      "Epoch 123/200\n",
      "8/8 [==============================] - 23s 3s/step - loss: 0.1014 - acc: 0.9842 - val_loss: 1.4089 - val_acc: 0.5392\n",
      "Epoch 124/200\n",
      "8/8 [==============================] - 23s 3s/step - loss: 0.0827 - acc: 0.9842 - val_loss: 1.4049 - val_acc: 0.5506\n",
      "Epoch 125/200\n",
      "8/8 [==============================] - 23s 3s/step - loss: 0.0987 - acc: 0.9882 - val_loss: 1.2940 - val_acc: 0.5622\n",
      "Epoch 126/200\n",
      "8/8 [==============================] - 23s 3s/step - loss: 0.1141 - acc: 0.9606 - val_loss: 1.3323 - val_acc: 0.5633\n"
     ]
    },
    {
     "name": "stdout",
     "output_type": "stream",
     "text": [
      "Epoch 127/200\n",
      "8/8 [==============================] - 23s 3s/step - loss: 0.1033 - acc: 0.9805 - val_loss: 1.2989 - val_acc: 0.5672\n",
      "Epoch 128/200\n",
      "8/8 [==============================] - 23s 3s/step - loss: 0.1283 - acc: 0.9645 - val_loss: 1.3810 - val_acc: 0.5550\n",
      "Epoch 129/200\n",
      "8/8 [==============================] - 23s 3s/step - loss: 0.1236 - acc: 0.9522 - val_loss: 1.4899 - val_acc: 0.5375\n",
      "Epoch 130/200\n",
      "8/8 [==============================] - 23s 3s/step - loss: 0.1186 - acc: 0.9842 - val_loss: 1.6185 - val_acc: 0.5314\n",
      "Epoch 131/200\n",
      "8/8 [==============================] - 23s 3s/step - loss: 0.1992 - acc: 0.9291 - val_loss: 1.3256 - val_acc: 0.5586\n",
      "Epoch 132/200\n",
      "8/8 [==============================] - 23s 3s/step - loss: 0.1250 - acc: 0.9635 - val_loss: 1.3343 - val_acc: 0.5522\n",
      "Epoch 133/200\n",
      "8/8 [==============================] - 25s 3s/step - loss: 0.0993 - acc: 0.9882 - val_loss: 1.3777 - val_acc: 0.5558\n",
      "Epoch 134/200\n",
      "8/8 [==============================] - 23s 3s/step - loss: 0.0808 - acc: 0.9961 - val_loss: 1.4266 - val_acc: 0.5503\n",
      "Epoch 135/200\n",
      "8/8 [==============================] - 24s 3s/step - loss: 0.1019 - acc: 0.9764 - val_loss: 1.4090 - val_acc: 0.5444\n",
      "Epoch 136/200\n",
      "8/8 [==============================] - 23s 3s/step - loss: 0.1077 - acc: 0.9648 - val_loss: 1.3522 - val_acc: 0.5592\n",
      "Epoch 137/200\n",
      "8/8 [==============================] - 23s 3s/step - loss: 0.0979 - acc: 0.9764 - val_loss: 1.4854 - val_acc: 0.5411\n",
      "Epoch 138/200\n",
      "8/8 [==============================] - 23s 3s/step - loss: 0.0910 - acc: 0.9882 - val_loss: 1.3208 - val_acc: 0.5667\n",
      "Epoch 139/200\n",
      "8/8 [==============================] - 24s 3s/step - loss: 0.0923 - acc: 0.9764 - val_loss: 1.3448 - val_acc: 0.5578\n",
      "Epoch 140/200\n",
      "8/8 [==============================] - 24s 3s/step - loss: 0.0923 - acc: 0.9803 - val_loss: 1.4273 - val_acc: 0.5569\n",
      "Epoch 141/200\n",
      "8/8 [==============================] - 24s 3s/step - loss: 0.0737 - acc: 0.9803 - val_loss: 1.3905 - val_acc: 0.5511\n",
      "Epoch 142/200\n",
      "8/8 [==============================] - 23s 3s/step - loss: 0.0709 - acc: 0.9921 - val_loss: 1.5295 - val_acc: 0.5461\n",
      "Epoch 143/200\n",
      "8/8 [==============================] - 23s 3s/step - loss: 0.0715 - acc: 0.9921 - val_loss: 1.4610 - val_acc: 0.5536\n",
      "Epoch 144/200\n",
      "8/8 [==============================] - 23s 3s/step - loss: 0.0816 - acc: 0.9842 - val_loss: 1.3865 - val_acc: 0.5503\n",
      "Epoch 145/200\n",
      "8/8 [==============================] - 24s 3s/step - loss: 0.0841 - acc: 0.9805 - val_loss: 1.6748 - val_acc: 0.5425\n",
      "Epoch 146/200\n",
      "8/8 [==============================] - 23s 3s/step - loss: 0.0856 - acc: 0.9753 - val_loss: 1.3887 - val_acc: 0.5675\n",
      "Epoch 147/200\n",
      "8/8 [==============================] - 23s 3s/step - loss: 0.0782 - acc: 0.9837 - val_loss: 1.3591 - val_acc: 0.5700\n",
      "Epoch 148/200\n",
      "8/8 [==============================] - 23s 3s/step - loss: 0.0934 - acc: 0.9680 - val_loss: 1.4117 - val_acc: 0.5614\n",
      "Epoch 149/200\n",
      "8/8 [==============================] - 24s 3s/step - loss: 0.0921 - acc: 0.9837 - val_loss: 1.4078 - val_acc: 0.5672\n",
      "Epoch 150/200\n",
      "8/8 [==============================] - 23s 3s/step - loss: 0.0894 - acc: 0.9842 - val_loss: 1.4020 - val_acc: 0.5722\n",
      "Epoch 151/200\n",
      "8/8 [==============================] - 23s 3s/step - loss: 0.0817 - acc: 0.9842 - val_loss: 1.4776 - val_acc: 0.5683\n",
      "Epoch 152/200\n",
      "8/8 [==============================] - 24s 3s/step - loss: 0.0896 - acc: 0.9714 - val_loss: 1.4978 - val_acc: 0.5531\n",
      "Epoch 153/200\n",
      "8/8 [==============================] - 24s 3s/step - loss: 0.1049 - acc: 0.9640 - val_loss: 1.4879 - val_acc: 0.5514\n",
      "Epoch 154/200\n",
      "8/8 [==============================] - 25s 3s/step - loss: 0.0886 - acc: 0.9727 - val_loss: 1.4271 - val_acc: 0.5636\n",
      "Epoch 155/200\n",
      "8/8 [==============================] - 23s 3s/step - loss: 0.0741 - acc: 0.9921 - val_loss: 1.4754 - val_acc: 0.5569\n",
      "Epoch 156/200\n",
      "8/8 [==============================] - 23s 3s/step - loss: 0.1028 - acc: 0.9685 - val_loss: 1.4294 - val_acc: 0.5553\n",
      "Epoch 157/200\n",
      "8/8 [==============================] - 23s 3s/step - loss: 0.0792 - acc: 0.9798 - val_loss: 1.4130 - val_acc: 0.5617\n",
      "Epoch 158/200\n",
      "8/8 [==============================] - 24s 3s/step - loss: 0.0877 - acc: 0.9803 - val_loss: 1.4797 - val_acc: 0.5575\n",
      "Epoch 159/200\n",
      "8/8 [==============================] - 25s 3s/step - loss: 0.0985 - acc: 0.9685 - val_loss: 1.6052 - val_acc: 0.5433\n",
      "Epoch 160/200\n",
      "8/8 [==============================] - 23s 3s/step - loss: 0.0816 - acc: 0.9842 - val_loss: 1.3616 - val_acc: 0.5733\n",
      "Epoch 161/200\n",
      "8/8 [==============================] - 23s 3s/step - loss: 0.0616 - acc: 0.9961 - val_loss: 1.4553 - val_acc: 0.5672\n",
      "Epoch 162/200\n",
      "8/8 [==============================] - 24s 3s/step - loss: 0.0746 - acc: 0.9837 - val_loss: 1.4234 - val_acc: 0.5631\n",
      "Epoch 163/200\n",
      "8/8 [==============================] - 23s 3s/step - loss: 0.0599 - acc: 0.9883 - val_loss: 1.5644 - val_acc: 0.5594\n",
      "Epoch 164/200\n",
      "8/8 [==============================] - 23s 3s/step - loss: 0.0686 - acc: 0.9842 - val_loss: 1.4558 - val_acc: 0.5625\n",
      "Epoch 165/200\n",
      "8/8 [==============================] - 24s 3s/step - loss: 0.0813 - acc: 0.9719 - val_loss: 1.5779 - val_acc: 0.5592\n",
      "Epoch 166/200\n",
      "8/8 [==============================] - 24s 3s/step - loss: 0.0831 - acc: 0.9764 - val_loss: 1.5304 - val_acc: 0.5633\n",
      "Epoch 167/200\n",
      "8/8 [==============================] - 24s 3s/step - loss: 0.0786 - acc: 0.9842 - val_loss: 1.5038 - val_acc: 0.5597\n",
      "Epoch 168/200\n",
      "8/8 [==============================] - 23s 3s/step - loss: 0.0628 - acc: 0.9882 - val_loss: 1.5215 - val_acc: 0.5486\n",
      "Epoch 169/200\n",
      "8/8 [==============================] - 23s 3s/step - loss: 0.0688 - acc: 0.9803 - val_loss: 1.4233 - val_acc: 0.5631\n",
      "Epoch 170/200\n",
      "8/8 [==============================] - 24s 3s/step - loss: 0.0551 - acc: 0.9921 - val_loss: 1.5673 - val_acc: 0.5614\n",
      "Epoch 171/200\n",
      "8/8 [==============================] - 23s 3s/step - loss: 0.0514 - acc: 1.0000 - val_loss: 1.4342 - val_acc: 0.5642\n",
      "Epoch 172/200\n",
      "8/8 [==============================] - 23s 3s/step - loss: 0.0609 - acc: 0.9883 - val_loss: 1.5889 - val_acc: 0.5503\n",
      "Epoch 173/200\n",
      "8/8 [==============================] - 23s 3s/step - loss: 0.0565 - acc: 0.9961 - val_loss: 1.5452 - val_acc: 0.5597\n",
      "Epoch 174/200\n",
      "8/8 [==============================] - 24s 3s/step - loss: 0.0496 - acc: 0.9961 - val_loss: 1.5162 - val_acc: 0.5689\n",
      "Epoch 175/200\n",
      "8/8 [==============================] - 24s 3s/step - loss: 0.0564 - acc: 0.9882 - val_loss: 1.6171 - val_acc: 0.5450\n",
      "Epoch 176/200\n",
      "8/8 [==============================] - 23s 3s/step - loss: 0.0627 - acc: 0.9842 - val_loss: 1.5158 - val_acc: 0.5586\n",
      "Epoch 177/200\n",
      "8/8 [==============================] - 23s 3s/step - loss: 0.0586 - acc: 0.9882 - val_loss: 1.5312 - val_acc: 0.5617\n",
      "Epoch 178/200\n",
      "8/8 [==============================] - 24s 3s/step - loss: 0.0683 - acc: 0.9837 - val_loss: 1.7201 - val_acc: 0.5589\n",
      "Epoch 179/200\n",
      "8/8 [==============================] - 23s 3s/step - loss: 0.0543 - acc: 0.9961 - val_loss: 1.4481 - val_acc: 0.5661\n",
      "Epoch 180/200\n",
      "8/8 [==============================] - 24s 3s/step - loss: 0.0716 - acc: 0.9842 - val_loss: 1.5271 - val_acc: 0.5556\n",
      "Epoch 181/200\n",
      "8/8 [==============================] - 24s 3s/step - loss: 0.0594 - acc: 0.9844 - val_loss: 1.5334 - val_acc: 0.5594\n",
      "Epoch 182/200\n",
      "8/8 [==============================] - 23s 3s/step - loss: 0.0665 - acc: 0.9842 - val_loss: 1.5062 - val_acc: 0.5581\n",
      "Epoch 183/200\n",
      "8/8 [==============================] - 23s 3s/step - loss: 0.0692 - acc: 0.9842 - val_loss: 1.6802 - val_acc: 0.5611\n",
      "Epoch 184/200\n",
      "8/8 [==============================] - 23s 3s/step - loss: 0.0640 - acc: 0.9882 - val_loss: 1.5392 - val_acc: 0.5653\n",
      "Epoch 185/200\n",
      "8/8 [==============================] - 23s 3s/step - loss: 0.0607 - acc: 0.9882 - val_loss: 1.5000 - val_acc: 0.5633\n",
      "Epoch 186/200\n",
      "8/8 [==============================] - 24s 3s/step - loss: 0.0548 - acc: 1.0000 - val_loss: 1.5863 - val_acc: 0.5678\n",
      "Epoch 187/200\n",
      "8/8 [==============================] - 23s 3s/step - loss: 0.0932 - acc: 0.9724 - val_loss: 1.4809 - val_acc: 0.5617\n",
      "Epoch 188/200\n",
      "8/8 [==============================] - 23s 3s/step - loss: 0.0883 - acc: 0.9680 - val_loss: 1.5365 - val_acc: 0.5622\n",
      "Epoch 189/200\n"
     ]
    },
    {
     "name": "stdout",
     "output_type": "stream",
     "text": [
      "8/8 [==============================] - 24s 3s/step - loss: 0.0576 - acc: 0.9921 - val_loss: 1.6966 - val_acc: 0.5692\n",
      "Epoch 190/200\n",
      "8/8 [==============================] - 24s 3s/step - loss: 0.0582 - acc: 0.9922 - val_loss: 1.5367 - val_acc: 0.5597\n",
      "Epoch 191/200\n",
      "8/8 [==============================] - 24s 3s/step - loss: 0.0549 - acc: 0.9961 - val_loss: 1.5513 - val_acc: 0.5625\n",
      "Epoch 192/200\n",
      "8/8 [==============================] - 24s 3s/step - loss: 0.0530 - acc: 0.9961 - val_loss: 1.6057 - val_acc: 0.5511\n",
      "Epoch 193/200\n",
      "8/8 [==============================] - 24s 3s/step - loss: 0.0465 - acc: 0.9961 - val_loss: 1.5833 - val_acc: 0.5553\n",
      "Epoch 194/200\n",
      "8/8 [==============================] - 23s 3s/step - loss: 0.0548 - acc: 0.9882 - val_loss: 1.5181 - val_acc: 0.5586\n",
      "Epoch 195/200\n",
      "8/8 [==============================] - 23s 3s/step - loss: 0.0399 - acc: 1.0000 - val_loss: 1.6606 - val_acc: 0.5600\n",
      "Epoch 196/200\n",
      "8/8 [==============================] - 23s 3s/step - loss: 0.0520 - acc: 0.9921 - val_loss: 1.5617 - val_acc: 0.5611\n",
      "Epoch 197/200\n",
      "8/8 [==============================] - 23s 3s/step - loss: 0.0349 - acc: 1.0000 - val_loss: 1.6942 - val_acc: 0.5492\n",
      "Epoch 198/200\n",
      "8/8 [==============================] - 24s 3s/step - loss: 0.0640 - acc: 0.9803 - val_loss: 1.6920 - val_acc: 0.5564\n",
      "Epoch 199/200\n",
      "8/8 [==============================] - 24s 3s/step - loss: 0.0728 - acc: 0.9805 - val_loss: 1.5181 - val_acc: 0.5675\n",
      "Epoch 200/200\n",
      "8/8 [==============================] - 24s 3s/step - loss: 0.0432 - acc: 0.9921 - val_loss: 1.7159 - val_acc: 0.5486\n"
     ]
    },
    {
     "data": {
      "text/plain": [
       "<keras.callbacks.History at 0xf1647b8>"
      ]
     },
     "execution_count": 12,
     "metadata": {},
     "output_type": "execute_result"
    }
   ],
   "source": [
    "model.fit_generator(x_train,samples_per_epoch=270,epochs=200,validation_data=x_test,nb_val_samples=120)"
   ]
  },
  {
   "cell_type": "code",
   "execution_count": 13,
   "metadata": {},
   "outputs": [],
   "source": [
    "model.save('challan.h5')"
   ]
  },
  {
   "cell_type": "code",
   "execution_count": null,
   "metadata": {},
   "outputs": [],
   "source": []
  }
 ],
 "metadata": {
  "kernelspec": {
   "display_name": "Python 3",
   "language": "python",
   "name": "python3"
  },
  "language_info": {
   "codemirror_mode": {
    "name": "ipython",
    "version": 3
   },
   "file_extension": ".py",
   "mimetype": "text/x-python",
   "name": "python",
   "nbconvert_exporter": "python",
   "pygments_lexer": "ipython3",
   "version": "3.7.3"
  }
 },
 "nbformat": 4,
 "nbformat_minor": 2
}
